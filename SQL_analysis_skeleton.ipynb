{
 "cells": [
  {
   "cell_type": "code",
   "execution_count": 2,
   "id": "e1d47f90-e302-4bfe-87ca-7fe41fe98b91",
   "metadata": {},
   "outputs": [],
   "source": [
    "import sqlite3"
   ]
  },
  {
   "cell_type": "code",
   "execution_count": 3,
   "id": "a26e1631-80c7-4c95-892f-e4b69fdb710e",
   "metadata": {},
   "outputs": [],
   "source": [
    "# load ipython-sql in order to use %sql and %%sql magics in the rest of the notebook\n",
    "%load_ext sql"
   ]
  },
  {
   "cell_type": "code",
   "execution_count": 4,
   "id": "02d3ad39-4994-4ad2-843a-fe4bf9d39a43",
   "metadata": {},
   "outputs": [],
   "source": [
    "# load the database file\n",
    "%sql sqlite:///test.db"
   ]
  },
  {
   "cell_type": "code",
   "execution_count": 5,
   "id": "900aacfa-c57c-4d49-8fe7-83f20c3d888f",
   "metadata": {},
   "outputs": [
    {
     "name": "stdout",
     "output_type": "stream",
     "text": [
      " * sqlite:///test.db\n",
      "Done.\n"
     ]
    },
    {
     "data": {
      "text/html": [
       "<table>\n",
       "    <thead>\n",
       "        <tr>\n",
       "            <th>StartingClubCount</th>\n",
       "            <th>EndingClubCount</th>\n",
       "        </tr>\n",
       "    </thead>\n",
       "    <tbody>\n",
       "        <tr>\n",
       "            <td>15891</td>\n",
       "            <td>16014</td>\n",
       "        </tr>\n",
       "    </tbody>\n",
       "</table>"
      ],
      "text/plain": [
       "[(15891, 16014)]"
      ]
     },
     "execution_count": 5,
     "metadata": {},
     "output_type": "execute_result"
    }
   ],
   "source": [
    "%%sql\n",
    "SELECT \n",
    "    (SELECT COUNT(DISTINCT \"Club Number\") \n",
    "     FROM July2022June2023\n",
    "     WHERE Month = 7   -- July is the start of the Toastmasters year\n",
    "    ) AS StartingClubCount,\n",
    "    (SELECT COUNT(DISTINCT \"Club Number\")\n",
    "     FROM July2022June2023\n",
    "     WHERE Month = 6   -- June is the end of the Toastmasters year\n",
    "    ) AS EndingClubCount;"
   ]
  }
 ],
 "metadata": {
  "kernelspec": {
   "display_name": "Python 3 (ipykernel)",
   "language": "python",
   "name": "python3"
  },
  "language_info": {
   "codemirror_mode": {
    "name": "ipython",
    "version": 3
   },
   "file_extension": ".py",
   "mimetype": "text/x-python",
   "name": "python",
   "nbconvert_exporter": "python",
   "pygments_lexer": "ipython3",
   "version": "3.10.13"
  }
 },
 "nbformat": 4,
 "nbformat_minor": 5
}

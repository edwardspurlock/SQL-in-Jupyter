{
 "cells": [
  {
   "cell_type": "code",
   "execution_count": 1,
   "id": "e1d47f90-e302-4bfe-87ca-7fe41fe98b91",
   "metadata": {},
   "outputs": [],
   "source": [
    "import sqlite3\n",
    "import pandas as pd"
   ]
  },
  {
   "cell_type": "code",
   "execution_count": 3,
   "id": "a26e1631-80c7-4c95-892f-e4b69fdb710e",
   "metadata": {},
   "outputs": [],
   "source": [
    "%load_ext sql"
   ]
  },
  {
   "cell_type": "code",
   "execution_count": 4,
   "id": "02d3ad39-4994-4ad2-843a-fe4bf9d39a43",
   "metadata": {},
   "outputs": [],
   "source": [
    "%sql sqlite:///test.db"
   ]
  },
  {
   "cell_type": "code",
   "execution_count": 4,
   "id": "3656afa0-2376-4c0e-a3b4-1927ae5b04cf",
   "metadata": {},
   "outputs": [],
   "source": [
    "dcp_columns = (\n",
    "         'District', 'Division', 'Area', \n",
    "         'Club Number', 'Club Name', \n",
    "         'Club Status', 'Mem. Base', 'Active Members', 'Goals Met', \n",
    "         '_2_CCs', '_2_more_CCs', '_1_AC', '_1_more_AC', '_1_CL_AL_DTM', '_1_more_CL_AL_DTM',\n",
    "         '_4_L1s', '_2_L2s', '_2_more_L2s', '_2_L3s', '_1_L4_L5_DTM', '_1_more_L4_L5_DTM',\n",
    "         'New Members', 'Add. New Members',\n",
    "         'Off. Trained Round 1', 'Off. Trained Round 2',\n",
    "         'Mem. dues on time Oct & Apr', 'Off. List On Time',\n",
    "         'Club Distinguished Status',\n",
    "         'Program Year', 'Month', 'Date'\n",
    ")"
   ]
  },
  {
   "cell_type": "code",
   "execution_count": 5,
   "id": "5a70c178-0b4c-42dc-ab89-870c7f057faa",
   "metadata": {},
   "outputs": [],
   "source": [
    "dcp_datatypes = {\n",
    "    'District': str, \n",
    "    'Division': str, \n",
    "    'Area': str,\n",
    "    'Club Number': 'Int64',\n",
    "    'Club Name': str,\n",
    "    'Club Status': str,\n",
    "    'Mem. Base': 'Int16',   # most clubs have less than 30 members, but could exceed 255\n",
    "    'Active Members': 'Int16',  # as above, could exceed 255\n",
    "    'Goals Met': 'Int8',    # max 10 goals possible\n",
    "    # most clubs have fewer than 10 goals earned in any category, so Int8 should be sufficient:\n",
    "    '_2_CCs': 'Int8', '_2_more_CCs': 'Int8', '_1_AC': 'Int8', '_1_more_AC': 'Int8', '_1_CL_AL_DTM': 'Int8', '_1_more_CL_AL_DTM': 'Int8',\n",
    "    '_4_L1s': 'Int8', '_2_L2s': 'Int8', '_2_more_L2s': 'Int8', '_2_L3s': 'Int8', '_1_L2_L5_DTM': 'Int8', '_1_more_L4_L5_DTM': 'Int8',\n",
    "    'New Members': 'Int8', 'Add. New Members':'Int16',   # max 4 for 'New Members', 'Add. New Members' could exceed 255\n",
    "    'Off. Trained Round 1': 'Int8', 'Off. Trained Round 2': 'Int8',   # max 7\n",
    "    'Mem. dues on time Oct & Apr': 'Int8', 'Off. List On Time': 'Int8',   # max 2\n",
    "    'Club Distinguished Status': str,    # values of 'D', 'S', 'P', or NULL\n",
    "    'Program Year': str,    # oldest available Program Year is '2008-2009', most recent full year is '2022-2023' \n",
    "    'Month': 'Int8',    # numeric values of 1 to 12 inclusive \n",
    "    'Date': str    # as of the last day of each month - values like '2008-07-31', '2023-06-30'\n",
    "}"
   ]
  },
  {
   "cell_type": "code",
   "execution_count": 6,
   "id": "74f13a24-9f50-4d08-851d-8f560010aeed",
   "metadata": {},
   "outputs": [],
   "source": [
    "df = pd.read_csv(\n",
    "    '2022-2023.csv',   # .read_csv() can read both zipped and unzipped .CSV files\n",
    "    low_memory=False,    # default is True, which reads the file in chunks, which may cause mixed type inference\n",
    "    encoding='ISO-8859-1',  # default is utf-8, which wasn't working with some non-U.S.A. club names\n",
    "    names=dcp_columns,   # specify the names parameter to override the header row in the file\n",
    "    skiprows=1,    # skip the header row when names are specified\n",
    "    dtype=dcp_datatypes  # specify datatypes to ensure that null numeric values will not be typed as float  \n",
    ")"
   ]
  },
  {
   "cell_type": "code",
   "execution_count": 7,
   "id": "53b70971-61dd-4fa8-801a-e3daa02812f7",
   "metadata": {},
   "outputs": [
    {
     "data": {
      "text/plain": [
       "192349"
      ]
     },
     "execution_count": 7,
     "metadata": {},
     "output_type": "execute_result"
    }
   ],
   "source": [
    "conn=sqlite3.connect('test.db')\n",
    "df.to_sql(name='July2022June2023', con=conn,  index=False, if_exists='replace')"
   ]
  },
  {
   "cell_type": "code",
   "execution_count": null,
   "id": "900aacfa-c57c-4d49-8fe7-83f20c3d888f",
   "metadata": {},
   "outputs": [],
   "source": [
    "%sql SELECT * FROM July2022June2023"
   ]
  }
 ],
 "metadata": {
  "kernelspec": {
   "display_name": "Python 3 (ipykernel)",
   "language": "python",
   "name": "python3"
  },
  "language_info": {
   "codemirror_mode": {
    "name": "ipython",
    "version": 3
   },
   "file_extension": ".py",
   "mimetype": "text/x-python",
   "name": "python",
   "nbconvert_exporter": "python",
   "pygments_lexer": "ipython3",
   "version": "3.10.13"
  }
 },
 "nbformat": 4,
 "nbformat_minor": 5
}
